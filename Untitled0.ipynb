{
  "nbformat": 4,
  "nbformat_minor": 0,
  "metadata": {
    "colab": {
      "provenance": [],
      "authorship_tag": "ABX9TyMhtSmzWCC7A1rttstcNfNm",
      "include_colab_link": true
    },
    "kernelspec": {
      "name": "python3",
      "display_name": "Python 3"
    },
    "language_info": {
      "name": "python"
    }
  },
  "cells": [
    {
      "cell_type": "markdown",
      "metadata": {
        "id": "view-in-github",
        "colab_type": "text"
      },
      "source": [
        "<a href=\"https://colab.research.google.com/github/Peacefullsppy/Projetos_de_faculdade/blob/main/Untitled0.ipynb\" target=\"_parent\"><img src=\"https://colab.research.google.com/assets/colab-badge.svg\" alt=\"Open In Colab\"/></a>"
      ]
    },
    {
      "cell_type": "code",
      "execution_count": 1,
      "metadata": {
        "colab": {
          "base_uri": "https://localhost:8080/"
        },
        "id": "zfclLjv74hiE",
        "outputId": "b7ff7aa2-8e55-4da2-ce3e-76b8dde8c464"
      },
      "outputs": [
        {
          "output_type": "stream",
          "name": "stdout",
          "text": [
            "Hello, World!\n"
          ]
        }
      ],
      "source": [
        "print(\"Hello, World!\")"
      ]
    },
    {
      "cell_type": "code",
      "source": [
        "nome = \"João\"\n",
        "idade = 21\n",
        "altura = 1.75\n",
        "print(nome,idade, altura)"
      ],
      "metadata": {
        "colab": {
          "base_uri": "https://localhost:8080/"
        },
        "id": "7a4AxbtW6gBV",
        "outputId": "b0a87f42-901f-4bcb-e373-8a8b6f938459"
      },
      "execution_count": 2,
      "outputs": [
        {
          "output_type": "stream",
          "name": "stdout",
          "text": [
            "João 21 1.75\n"
          ]
        }
      ]
    },
    {
      "cell_type": "code",
      "source": [
        "a = 10\n",
        "b = 5\n",
        "soma = a + b\n",
        "sub = a - b\n",
        "mul = a * b\n",
        "div = a / b\n",
        "print(soma, sub, mul, div)"
      ],
      "metadata": {
        "colab": {
          "base_uri": "https://localhost:8080/"
        },
        "id": "BqRGuWXm8I48",
        "outputId": "4b12863a-3855-4504-c4a6-0a122f5af4e9"
      },
      "execution_count": 3,
      "outputs": [
        {
          "output_type": "stream",
          "name": "stdout",
          "text": [
            "15 5 50 2.0\n"
          ]
        }
      ]
    },
    {
      "cell_type": "code",
      "source": [
        "num_1 = float(input(\"Digite o primeiro número: \"))\n",
        "num_2 = float(input(\"Digite o segundo número: \"))\n",
        "operacao = input(\"Digite a operação (+, -, *, /): \")\n",
        "\n",
        "if operacao == \"+\":\n",
        "    resultado = num_1 + num_2\n",
        "elif operacao == \"-\":\n",
        "    resultado = num_1 - num_2\n",
        "elif operacao == \"*\":\n",
        "    resultado = num_1 * num_2\n",
        "elif operacao == \"/\":\n",
        "    if num_2 != 0:  # evita divisão por zero\n",
        "        resultado = num_1 / num_2\n",
        "    else:\n",
        "        resultado = \"Erro: divisão por zero!\"\n",
        "else:\n",
        "    resultado = \"Operação inválida!\"\n",
        "\n",
        "print(\"Resultado:\", resultado)"
      ],
      "metadata": {
        "colab": {
          "base_uri": "https://localhost:8080/"
        },
        "id": "ZOV4m8hX8oy0",
        "outputId": "4f815688-49ea-4c4d-e821-e7429da64ef4"
      },
      "execution_count": 7,
      "outputs": [
        {
          "output_type": "stream",
          "name": "stdout",
          "text": [
            "Digite o primeiro número: 10\n",
            "Digite o segundo número: 10\n",
            "Digite a operação (+, -, *, /): /\n",
            "Resultado: 1.0\n"
          ]
        }
      ]
    },
    {
      "cell_type": "code",
      "source": [
        "from os import POSIX_FADV_SEQUENTIAL\n",
        "celsius = float(input(\"Digite a temperatura em Celsius: \"))\n",
        "fahrenheit = float(input(\"Digite a temperatura em Fahrenheit: \"))\n",
        "\n",
        "celsius_para_fahrenheit = (celsius * 9/5) + 32\n",
        "fahrenheit_para_celsius = (fahrenheit - 32) * 5/9\n",
        "\n",
        "resultado = celsius_para_fahrenheit, fahrenheit_para_celsius\n",
        "\n",
        "if celsius_para_fahrenheit:\n",
        "  print(resultado)\n",
        "elif fahrenheit_para_celsius:\n",
        "    print(resultado)"
      ],
      "metadata": {
        "colab": {
          "base_uri": "https://localhost:8080/"
        },
        "id": "XhJARBxA-uvj",
        "outputId": "81577559-d7e3-48d0-a823-66930795751e"
      },
      "execution_count": 11,
      "outputs": [
        {
          "output_type": "stream",
          "name": "stdout",
          "text": [
            "Digite a temperatura em Celsius: 50\n",
            "Digite a temperatura em Fahrenheit: 122\n",
            "(122.0, 50.0)\n"
          ]
        }
      ]
    },
    {
      "cell_type": "code",
      "source": [
        "frase = str(input(\"Escreva uma frase: \"))\n",
        "numero_de_caracteres = len(frase)\n",
        "print(\"O número de caracteres na frase é:\", numero_de_caracteres)"
      ],
      "metadata": {
        "colab": {
          "base_uri": "https://localhost:8080/"
        },
        "id": "i4AJc58g_9EJ",
        "outputId": "f49d6699-2077-4bfe-dadb-80f1c91ec64a"
      },
      "execution_count": 16,
      "outputs": [
        {
          "output_type": "stream",
          "name": "stdout",
          "text": [
            "Escreva uma frase: carlinhos chupa cavalos\n",
            "O número de caracteres na frase é: 23\n"
          ]
        }
      ]
    },
    {
      "cell_type": "code",
      "source": [
        "\"\"\"\n",
        "Multitool — Aplicação CLI em Python\n",
        "Arquivo: multitool.py\n",
        "\n",
        "Descrição:\n",
        "Este arquivo contém uma aplicação CLI \"Multitool\" que reúne várias funcionalidades:\n",
        "- Calculadora aritmética (+: adição, -: subtração, *: multiplicação, /: divisão, //, %, **)\n",
        "- Conversões de temperatura (Celsius <-> Fahrenheit)\n",
        "- Utilitários de string (len, reverse, count, replace, split, strip, upper, lower)\n",
        "- Histórico persistido em JSON (history.json)\n",
        "- Registro de logs (multitool.log)\n",
        "\n",
        "Objetivo:\n",
        "Ser um exemplo mais complexo e organizado comparado aos pequenos trechos anteriores.\n",
        "O código é intencionalmente modular, documentado e preparado para extensão.\n",
        "\n",
        "Uso (execução):\n",
        "    python multitool.py\n",
        "\n",
        "Exemplos de comandos dentro do aplicativo:\n",
        "    calc 12 + 5\n",
        "    temp ctof 25\n",
        "    temp ftoc 77\n",
        "    str len \"Olá mundo\"\n",
        "    str rev \"Python\"\n",
        "    history show\n",
        "    exit\n",
        "\n",
        "Seções deste documento:\n",
        "- Código fonte (abaixo)\n",
        "- Documentação das funções e estrutura\n",
        "- Como estender a aplicação\n",
        "- Testes sugeridos\n",
        "\n",
        "\"\"\"\n",
        "\n",
        "import json\n",
        "import logging\n",
        "import os\n",
        "import shlex\n",
        "from datetime import datetime\n",
        "from typing import Any, Callable, Dict, List, Tuple\n",
        "\n",
        "# --------------------------- Configuração de logging ---------------------------\n",
        "LOG_FILE = \"multitool.log\"\n",
        "HISTORY_FILE = \"history.json\"\n",
        "\n",
        "logging.basicConfig(\n",
        "    filename=LOG_FILE,\n",
        "    level=logging.DEBUG,\n",
        "    format='%(asctime)s %(levelname)s: %(message)s'\n",
        ")\n",
        "\n",
        "# --------------------------- Utilitários de persistência ---------------------------\n",
        "\n",
        "def load_history() -> List[Dict[str, Any]]:\n",
        "    \"\"\"Carrega o histórico salvo em HISTORY_FILE. Retorna lista vazia se não existir.\"\"\"\n",
        "    if not os.path.exists(HISTORY_FILE):\n",
        "        return []\n",
        "    try:\n",
        "        with open(HISTORY_FILE, 'r', encoding='utf-8') as f:\n",
        "            return json.load(f)\n",
        "    except Exception as e:\n",
        "        logging.error(f\"Erro ao carregar histórico: {e}\")\n",
        "        return []\n",
        "\n",
        "\n",
        "def save_history(history: List[Dict[str, Any]]) -> None:\n",
        "    \"\"\"Persiste o histórico no disco.\n",
        "\n",
        "    Cada entrada é um dict com chaves: timestamp, comando, resultado\n",
        "    \"\"\"\n",
        "    try:\n",
        "        with open(HISTORY_FILE, 'w', encoding='utf-8') as f:\n",
        "            json.dump(history, f, ensure_ascii=False, indent=2)\n",
        "    except Exception as e:\n",
        "        logging.error(f\"Erro ao salvar histórico: {e}\")\n",
        "\n",
        "\n",
        "# --------------------------- Operações --- Calculadora ---------------------------\n",
        "\n",
        "def safe_divide(a: float, b: float) -> Any:\n",
        "    \"\"\"Divide protegida: retorna mensagem de erro se divisão por zero.\"\"\"\n",
        "    if b == 0:\n",
        "        return \"Erro: divisão por zero\"\n",
        "    return a / b\n",
        "\n",
        "\n",
        "def calc(a: float, op: str, b: float) -> Any:\n",
        "    \"\"\"Executa a operação aritmética entre a e b definida por op.\"\"\"\n",
        "    ops = {\n",
        "        '+': lambda x, y: x + y,\n",
        "        '-': lambda x, y: x - y,\n",
        "        '*': lambda x, y: x * y,\n",
        "        '/': safe_divide,\n",
        "        '//': lambda x, y: x // y if y != 0 else \"Erro: divisão por zero\",\n",
        "        '%': lambda x, y: x % y if y != 0 else \"Erro: divisão por zero\",\n",
        "        '**': lambda x, y: x ** y\n",
        "    }\n",
        "    func = ops.get(op)\n",
        "    if not func:\n",
        "        return \"Operador inválido\"\n",
        "    try:\n",
        "        return func(a, b)\n",
        "    except Exception as e:\n",
        "        logging.exception(\"Erro na operação calc\")\n",
        "        return f\"Erro ao calcular: {e}\"\n",
        "\n",
        "\n",
        "# --------------------------- Operações --- Temperatura ---------------------------\n",
        "\n",
        "def celsius_to_fahrenheit(c: float) -> float:\n",
        "    return c * 9.0 / 5.0 + 32.0\n",
        "\n",
        "\n",
        "def fahrenheit_to_celsius(f: float) -> float:\n",
        "    return (f - 32.0) * 5.0 / 9.0\n",
        "\n",
        "\n",
        "# --------------------------- Operações --- Strings ---------------------------\n",
        "\n",
        "def str_len(s: str) -> int:\n",
        "    return len(s)\n",
        "\n",
        "\n",
        "def str_rev(s: str) -> str:\n",
        "    return s[::-1]\n",
        "\n",
        "\n",
        "def str_count(s: str, sub: str) -> int:\n",
        "    return s.count(sub)\n",
        "\n",
        "\n",
        "def str_replace(s: str, old: str, new: str) -> str:\n",
        "    return s.replace(old, new)\n",
        "\n",
        "\n",
        "# --------------------------- Mapeamento de comandos ---------------------------\n",
        "\n",
        "CommandHandler = Callable[[List[str]], Tuple[str, Any]]\n",
        "\n",
        "\n",
        "def handle_calc(args: List[str]) -> Tuple[str, Any]:\n",
        "    \"\"\"Formato esperado: calc 12 + 5  --> args = ['12', '+', '5']\"\"\"\n",
        "    if len(args) != 3:\n",
        "        return \"error\", \"Uso: calc <num1> <op> <num2>\"\n",
        "    try:\n",
        "        a = float(args[0])\n",
        "        op = args[1]\n",
        "        b = float(args[2])\n",
        "    except ValueError:\n",
        "        return \"error\", \"Números inválidos\"\n",
        "    result = calc(a, op, b)\n",
        "    return \"ok\", result\n",
        "\n",
        "\n",
        "def handle_temp(args: List[str]) -> Tuple[str, Any]:\n",
        "    \"\"\"Formato:\n",
        "       temp ctof 25   -> Celsius para Fahrenheit\n",
        "       temp ftoc 77   -> Fahrenheit para Celsius\n",
        "    \"\"\"\n",
        "    if len(args) != 2:\n",
        "        return \"error\", \"Uso: temp <ctof|ftoc> <valor>\"\n",
        "    mode = args[0].lower()\n",
        "    try:\n",
        "        value = float(args[1])\n",
        "    except ValueError:\n",
        "        return \"error\", \"Valor de temperatura inválido\"\n",
        "\n",
        "    if mode == 'ctof':\n",
        "        return 'ok', celsius_to_fahrenheit(value)\n",
        "    elif mode == 'ftoc':\n",
        "        return 'ok', fahrenheit_to_celsius(value)\n",
        "    else:\n",
        "        return 'error', \"Modo inválido. Use 'ctof' ou 'ftoc'\"\n",
        "\n",
        "\n",
        "def handle_str(args: List[str]) -> Tuple[str, Any]:\n",
        "    \"\"\"Operações de string:\n",
        "       str len \"texto\"\n",
        "       str rev \"texto\"\n",
        "       str count \"texto\" \"sub\"\n",
        "       str replace \"texto\" \"old\" \"new\"\n",
        "    \"\"\"\n",
        "    if not args:\n",
        "        return 'error', 'Uso: str <op> <args...>'\n",
        "    op = args[0].lower()\n",
        "    if op == 'len' and len(args) == 2:\n",
        "        return 'ok', str_len(args[1])\n",
        "    if op == 'rev' and len(args) == 2:\n",
        "        return 'ok', str_rev(args[1])\n",
        "    if op == 'count' and len(args) == 3:\n",
        "        return 'ok', str_count(args[1], args[2])\n",
        "    if op == 'replace' and len(args) == 4:\n",
        "        return 'ok', str_replace(args[1], args[2], args[3])\n",
        "    return 'error', 'Operação de string inválida ou argumentos faltando'\n",
        "\n",
        "\n",
        "def handle_history(args: List[str]) -> Tuple[str, Any]:\n",
        "    \"\"\"history show | clear\"\"\"\n",
        "    history = load_history()\n",
        "    if not args or args[0] == 'show':\n",
        "        return 'ok', history\n",
        "    if args[0] == 'clear':\n",
        "        save_history([])\n",
        "        return 'ok', 'Histórico limpo'\n",
        "    return 'error', 'Uso: history [show|clear]'\n",
        "\n",
        "\n",
        "# Registrar os handlers em um dicionário para lookup dinâmico\n",
        "HANDLERS: Dict[str, CommandHandler] = {\n",
        "    'calc': handle_calc,\n",
        "    'temp': handle_temp,\n",
        "    'str': handle_str,\n",
        "    'history': handle_history\n",
        "}\n",
        "\n",
        "\n",
        "# --------------------------- Loop principal da CLI ---------------------------\n",
        "\n",
        "def record_history(command: str, result: Any) -> None:\n",
        "    history = load_history()\n",
        "    entry = {\n",
        "        'timestamp': datetime.utcnow().isoformat() + 'Z',\n",
        "        'command': command,\n",
        "        'result': result\n",
        "    }\n",
        "    history.append(entry)\n",
        "    save_history(history)\n",
        "\n",
        "\n",
        "def parse_command(line: str) -> Tuple[str, List[str]]:\n",
        "    \"\"\"Divide a linha em comando e argumentos.\n",
        "\n",
        "    Usa shlex.split para suportar argumentos entre aspas.\n",
        "    Retorna (comando, args)\n",
        "    \"\"\"\n",
        "    parts = shlex.split(line)\n",
        "    if not parts:\n",
        "        return '', []\n",
        "    return parts[0], parts[1:]\n",
        "\n",
        "\n",
        "def main() -> None:\n",
        "    print(\"Multitool CLI — digite 'help' para ver comandos, 'exit' para sair.\")\n",
        "    logging.info(\"Aplicação iniciada\")\n",
        "    while True:\n",
        "        try:\n",
        "            line = input('> ').strip()\n",
        "            if not line:\n",
        "                continue\n",
        "            if line.lower() in ('exit', 'quit'):\n",
        "                print('Encerrando...')\n",
        "                logging.info('Aplicação encerrada pelo usuário')\n",
        "                break\n",
        "            if line.lower() == 'help':\n",
        "                print(\"Comandos: calc, temp, str, history, help, exit\")\n",
        "                continue\n",
        "\n",
        "            cmd, args = parse_command(line)\n",
        "            handler = HANDLERS.get(cmd)\n",
        "            if not handler:\n",
        "                print(\"Comando desconhecido. Use 'help' para ajuda.\")\n",
        "                continue\n",
        "\n",
        "            status, result = handler(args)\n",
        "            if status == 'ok':\n",
        "                print(result)\n",
        "            else:\n",
        "                print('Erro:', result)\n",
        "\n",
        "            # Registra no histórico (salva o comando e o resultado)\n",
        "            record_history(line, result)\n",
        "\n",
        "        except KeyboardInterrupt:\n",
        "            print('\\nEncerrando por KeyboardInterrupt...')\n",
        "            logging.info('Aplicação encerrada por KeyboardInterrupt')\n",
        "            break\n",
        "        except Exception as e:\n",
        "            logging.exception('Erro inesperado no loop principal')\n",
        "            print('Ocorreu um erro:', e)\n",
        "\n",
        "\n",
        "if __name__ == '__main__':\n",
        "    main()\n",
        "\n",
        "# --------------------------- Fim do arquivo ---------------------------\n"
      ],
      "metadata": {
        "colab": {
          "base_uri": "https://localhost:8080/"
        },
        "id": "tPn8o0mzBroI",
        "outputId": "557264bf-074e-40fc-98df-814920290a08"
      },
      "execution_count": 17,
      "outputs": [
        {
          "output_type": "stream",
          "name": "stdout",
          "text": [
            "Multitool CLI — digite 'help' para ver comandos, 'exit' para sair.\n",
            "> help\n",
            "Comandos: calc, temp, str, history, help, exit\n",
            "> calc\n",
            "Erro: Uso: calc <num1> <op> <num2>\n",
            "> history\n",
            "[{'timestamp': '2025-08-09T13:35:35.520649Z', 'command': 'calc', 'result': 'Uso: calc <num1> <op> <num2>'}]\n",
            "> temp\n",
            "Erro: Uso: temp <ctof|ftoc> <valor>\n",
            "> exit\n",
            "Encerrando...\n"
          ]
        }
      ]
    },
    {
      "cell_type": "markdown",
      "source": [
        "O ChatGPT ajudou em diversos momentos, como ao fornecer dicas de comandos específicos para serem utilizados e explicar conceitos básicos, como manipulação e concatenação. A IA facilitou o processo ao apresentar sugestões de códigos e comandos, sem que fosse necessário realizar uma pesquisa mais profunda. A maior dificuldade foi contextualizar a ferramenta para que não oferecesse respostas imediatas prontas para reutilização, mas sim incentivasse o usuário a digitá-las por conta própria.\n"
      ],
      "metadata": {
        "id": "er2VQIxWDGtu"
      }
    },
    {
      "cell_type": "code",
      "source": [],
      "metadata": {
        "id": "0F-al0qGEe79"
      },
      "execution_count": null,
      "outputs": []
    }
  ]
}